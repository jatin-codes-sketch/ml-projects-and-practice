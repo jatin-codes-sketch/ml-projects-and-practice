{
 "cells": [
  {
   "cell_type": "code",
   "execution_count": 1,
   "id": "618d75f5",
   "metadata": {},
   "outputs": [],
   "source": [
    "import pandas as pd \n",
    "import numpy as np \n",
    "import seaborn as sns\n",
    "import matplotlib.pyplot as plt \n",
    "\n",
    "from sklearn.linear_model import LinearRegression\n",
    "\n",
    "from sklearn.datasets import make_regression"
   ]
  },
  {
   "cell_type": "code",
   "execution_count": 2,
   "id": "caf188c7",
   "metadata": {},
   "outputs": [
    {
     "data": {
      "text/plain": [
       "(2000, 2)"
      ]
     },
     "execution_count": 2,
     "metadata": {},
     "output_type": "execute_result"
    }
   ],
   "source": [
    "df=pd.read_csv(r'C:\\Users\\Lenovo\\Downloads\\cgpa_vs_package_large.csv')\n",
    "df.shape\n",
    "\n"
   ]
  },
  {
   "cell_type": "code",
   "execution_count": 3,
   "id": "2c31fd16",
   "metadata": {},
   "outputs": [
    {
     "data": {
      "text/plain": [
       "Text(0, 0.5, 'Placement_Exam_Marks')"
      ]
     },
     "execution_count": 3,
     "metadata": {},
     "output_type": "execute_result"
    },
    {
     "data": {
      "image/png": "[encoded data removed]",
      "text/plain": [
       "<Figure size 640x480 with 1 Axes>"
      ]
     },
     "metadata": {},
     "output_type": "display_data"
    }
   ],
   "source": [
    "plt.scatter(df['CGPA'],df['Package (LPA)'])\n",
    "plt.xlabel('CGPA')\n",
    "plt.ylabel('Placement_Exam_Marks')\n"
   ]
  },
  {
   "cell_type": "code",
   "execution_count": 4,
   "id": "4a2dac51",
   "metadata": {},
   "outputs": [],
   "source": [
    "from sklearn.model_selection import train_test_split\n",
    "X=df.iloc[:,:1]\n",
    "y=df.iloc[:,1:]\n",
    "\n",
    "X_train,X_test,y_train,y_test=train_test_split(X,y,test_size=0.2,random_state=43)"
   ]
  },
  {
   "cell_type": "code",
   "execution_count": 5,
   "id": "ccc655b6",
   "metadata": {},
   "outputs": [
    {
     "data": {
      "text/html": [
       "<div>\n",
       "<style scoped>\n",
       "    .dataframe tbody tr th:only-of-type {\n",
       "        vertical-align: middle;\n",
       "    }\n",
       "\n",
       "    .dataframe tbody tr th {\n",
       "        vertical-align: top;\n",
       "    }\n",
       "\n",
       "    .dataframe thead th {\n",
       "        text-align: right;\n",
       "    }\n",
       "</style>\n",
       "<table border=\"1\" class=\"dataframe\">\n",
       "  <thead>\n",
       "    <tr style=\"text-align: right;\">\n",
       "      <th></th>\n",
       "      <th>CGPA</th>\n",
       "    </tr>\n",
       "  </thead>\n",
       "  <tbody>\n",
       "    <tr>\n",
       "      <th>1480</th>\n",
       "      <td>9.09</td>\n",
       "    </tr>\n",
       "    <tr>\n",
       "      <th>1312</th>\n",
       "      <td>7.74</td>\n",
       "    </tr>\n",
       "    <tr>\n",
       "      <th>305</th>\n",
       "      <td>9.88</td>\n",
       "    </tr>\n",
       "    <tr>\n",
       "      <th>1545</th>\n",
       "      <td>7.42</td>\n",
       "    </tr>\n",
       "    <tr>\n",
       "      <th>1716</th>\n",
       "      <td>5.29</td>\n",
       "    </tr>\n",
       "    <tr>\n",
       "      <th>...</th>\n",
       "      <td>...</td>\n",
       "    </tr>\n",
       "    <tr>\n",
       "      <th>1677</th>\n",
       "      <td>7.01</td>\n",
       "    </tr>\n",
       "    <tr>\n",
       "      <th>731</th>\n",
       "      <td>9.07</td>\n",
       "    </tr>\n",
       "    <tr>\n",
       "      <th>801</th>\n",
       "      <td>5.76</td>\n",
       "    </tr>\n",
       "    <tr>\n",
       "      <th>1559</th>\n",
       "      <td>9.50</td>\n",
       "    </tr>\n",
       "    <tr>\n",
       "      <th>1850</th>\n",
       "      <td>6.43</td>\n",
       "    </tr>\n",
       "  </tbody>\n",
       "</table>\n",
       "<p>400 rows × 1 columns</p>\n",
       "</div>"
      ],
      "text/plain": [
       "      CGPA\n",
       "1480  9.09\n",
       "1312  7.74\n",
       "305   9.88\n",
       "1545  7.42\n",
       "1716  5.29\n",
       "...    ...\n",
       "1677  7.01\n",
       "731   9.07\n",
       "801   5.76\n",
       "1559  9.50\n",
       "1850  6.43\n",
       "\n",
       "[400 rows x 1 columns]"
      ]
     },
     "execution_count": 5,
     "metadata": {},
     "output_type": "execute_result"
    }
   ],
   "source": [
    "lr=LinearRegression()\n",
    "lr.fit(X_train,y_train)\n",
    "X_test"
   ]
  },
  {
   "cell_type": "code",
   "execution_count": 6,
   "id": "b8333585",
   "metadata": {},
   "outputs": [
    {
     "name": "stderr",
     "output_type": "stream",
     "text": [
      "C:\\Users\\Lenovo\\AppData\\Roaming\\Python\\Python312\\site-packages\\sklearn\\utils\\validation.py:2739: UserWarning: X does not have valid feature names, but LinearRegression was fitted with feature names\n",
      "  warnings.warn(\n"
     ]
    },
    {
     "data": {
      "text/plain": [
       "array([[98.69151044]])"
      ]
     },
     "execution_count": 6,
     "metadata": {},
     "output_type": "execute_result"
    }
   ],
   "source": [
    "lr.predict(X_test.iloc[0].values.reshape(1,1))"
   ]
  },
  {
   "cell_type": "code",
   "execution_count": 7,
   "id": "0d50f35f",
   "metadata": {},
   "outputs": [
    {
     "data": {
      "text/plain": [
       "Text(0, 0.5, 'Placement_Exam_Marks')"
      ]
     },
     "execution_count": 7,
     "metadata": {},
     "output_type": "execute_result"
    },
    {
     "data": {
      "image/png": "[encoded data removed]",
      "text/plain": [
       "<Figure size 640x480 with 1 Axes>"
      ]
     },
     "metadata": {},
     "output_type": "display_data"
    }
   ],
   "source": [
    "plt.scatter(df['CGPA'],df['Package (LPA)'])\n",
    "plt.plot(X_test,lr.predict(X_test),color='red',)\n",
    "plt.xlabel('CGPA')\n",
    "plt.ylabel('Placement_Exam_Marks')\n"
   ]
  },
  {
   "cell_type": "code",
   "execution_count": 8,
   "id": "99a358d1",
   "metadata": {},
   "outputs": [
    {
     "data": {
      "text/plain": [
       "array([[18.00716622]])"
      ]
     },
     "execution_count": 8,
     "metadata": {},
     "output_type": "execute_result"
    }
   ],
   "source": [
    "m=lr.coef_\n",
    "m"
   ]
  },
  {
   "cell_type": "code",
   "execution_count": 9,
   "id": "d7f15e10",
   "metadata": {},
   "outputs": [
    {
     "data": {
      "text/plain": [
       "array([-64.99363047])"
      ]
     },
     "execution_count": 9,
     "metadata": {},
     "output_type": "execute_result"
    }
   ],
   "source": [
    "b=lr.intercept_\n",
    "b"
   ]
  },
  {
   "cell_type": "code",
   "execution_count": 10,
   "id": "79259a68",
   "metadata": {},
   "outputs": [
    {
     "data": {
      "text/plain": [
       "array([[98.69151044]])"
      ]
     },
     "execution_count": 10,
     "metadata": {},
     "output_type": "execute_result"
    }
   ],
   "source": [
    "# y=mx+b\n",
    "# package of first person in x_test\n",
    "m*\t9.09 + b"
   ]
  },
  {
   "cell_type": "code",
   "execution_count": 11,
   "id": "202bbd32",
   "metadata": {},
   "outputs": [
    {
     "data": {
      "text/plain": [
       "array([[95.09007719]])"
      ]
     },
     "execution_count": 11,
     "metadata": {},
     "output_type": "execute_result"
    }
   ],
   "source": [
    "m*8.89+b"
   ]
  },
  {
   "cell_type": "markdown",
   "id": "b0a0a074",
   "metadata": {},
   "source": [
    "## we are  creating the OLS (closed system) for linear regression which used sklearn.linear_model class \n"
   ]
  },
  {
   "cell_type": "code",
   "execution_count": 12,
   "id": "6106f655",
   "metadata": {},
   "outputs": [],
   "source": [
    "class new_lr:\n",
    "    def __init__(self):\n",
    "        self.m=None\n",
    "        self.b=None\n",
    "\n",
    "    def fit(self,X_train,y_train):\n",
    "        num=0\n",
    "        deno=0\n",
    "\n",
    "        for i in range(X_train.shape[0]):\n",
    "            num=num + ((y_train[i]-y_train.mean())*(X_train[i]-X_train.mean()))\n",
    "            deno = deno + (X_train[i]-X_train.mean())*(X_train[i]-X_train.mean())\n",
    "\n",
    "        self.m=num/deno\n",
    "        self.b=y_train.mean()-(self.m * X_train.mean())\n",
    "        print(self.m)\n",
    "        print(self.b)\n",
    "    def predict(self,X_test):\n",
    "        return self.m*X_test+self.b"
   ]
  },
  {
   "cell_type": "code",
   "execution_count": 13,
   "id": "647aa6a2",
   "metadata": {},
   "outputs": [],
   "source": [
    "X=df.iloc[:,:1].values\n",
    "y=df.iloc[:,1:].values"
   ]
  },
  {
   "cell_type": "code",
   "execution_count": 14,
   "id": "205995d2",
   "metadata": {},
   "outputs": [],
   "source": [
    "X_train,X_test,y_train,y_test=train_test_split(X,y,test_size=0.2,random_state=43)"
   ]
  },
  {
   "cell_type": "code",
   "execution_count": 15,
   "id": "00c48e23",
   "metadata": {},
   "outputs": [
    {
     "name": "stdout",
     "output_type": "stream",
     "text": [
      "[18.00716622]\n",
      "[-64.99363047]\n"
     ]
    }
   ],
   "source": [
    "lr=new_lr()\n",
    "lr.fit(X_train,y_train)"
   ]
  },
  {
   "cell_type": "code",
   "execution_count": 16,
   "id": "376c2436",
   "metadata": {},
   "outputs": [],
   "source": [
    "lrpred=lr.predict(X_test)"
   ]
  },
  {
   "cell_type": "code",
   "execution_count": 17,
   "id": "961b480e",
   "metadata": {},
   "outputs": [
    {
     "data": {
      "text/html": [
       "<div>\n",
       "<style scoped>\n",
       "    .dataframe tbody tr th:only-of-type {\n",
       "        vertical-align: middle;\n",
       "    }\n",
       "\n",
       "    .dataframe tbody tr th {\n",
       "        vertical-align: top;\n",
       "    }\n",
       "\n",
       "    .dataframe thead th {\n",
       "        text-align: right;\n",
       "    }\n",
       "</style>\n",
       "<table border=\"1\" class=\"dataframe\">\n",
       "  <thead>\n",
       "    <tr style=\"text-align: right;\">\n",
       "      <th></th>\n",
       "      <th>y_test</th>\n",
       "    </tr>\n",
       "  </thead>\n",
       "  <tbody>\n",
       "    <tr>\n",
       "      <th>0</th>\n",
       "      <td>98.691510</td>\n",
       "    </tr>\n",
       "    <tr>\n",
       "      <th>1</th>\n",
       "      <td>74.381836</td>\n",
       "    </tr>\n",
       "    <tr>\n",
       "      <th>2</th>\n",
       "      <td>112.917172</td>\n",
       "    </tr>\n",
       "    <tr>\n",
       "      <th>3</th>\n",
       "      <td>68.619543</td>\n",
       "    </tr>\n",
       "    <tr>\n",
       "      <th>4</th>\n",
       "      <td>30.264279</td>\n",
       "    </tr>\n",
       "    <tr>\n",
       "      <th>...</th>\n",
       "      <td>...</td>\n",
       "    </tr>\n",
       "    <tr>\n",
       "      <th>395</th>\n",
       "      <td>61.236605</td>\n",
       "    </tr>\n",
       "    <tr>\n",
       "      <th>396</th>\n",
       "      <td>98.331367</td>\n",
       "    </tr>\n",
       "    <tr>\n",
       "      <th>397</th>\n",
       "      <td>38.727647</td>\n",
       "    </tr>\n",
       "    <tr>\n",
       "      <th>398</th>\n",
       "      <td>106.074449</td>\n",
       "    </tr>\n",
       "    <tr>\n",
       "      <th>399</th>\n",
       "      <td>50.792448</td>\n",
       "    </tr>\n",
       "  </tbody>\n",
       "</table>\n",
       "<p>400 rows × 1 columns</p>\n",
       "</div>"
      ],
      "text/plain": [
       "         y_test\n",
       "0     98.691510\n",
       "1     74.381836\n",
       "2    112.917172\n",
       "3     68.619543\n",
       "4     30.264279\n",
       "..          ...\n",
       "395   61.236605\n",
       "396   98.331367\n",
       "397   38.727647\n",
       "398  106.074449\n",
       "399   50.792448\n",
       "\n",
       "[400 rows x 1 columns]"
      ]
     },
     "execution_count": 17,
     "metadata": {},
     "output_type": "execute_result"
    }
   ],
   "source": [
    "df2=pd.DataFrame(lrpred,columns=['y_test'])\n",
    "df2"
   ]
  },
  {
   "cell_type": "code",
   "execution_count": 18,
   "id": "d8696fe2",
   "metadata": {},
   "outputs": [
    {
     "data": {
      "text/plain": [
       "array([[ 0.97511973, -0.67716171, -0.01224677, -0.89725437,  0.07580456],\n",
       "       [ 0.08187414, -0.48536355,  0.75896922, -0.77282521, -0.23681861],\n",
       "       [-1.4123037 , -0.90802408, -0.56228753, -1.01283112,  0.31424733],\n",
       "       [-0.64511975,  0.36163603,  1.35624003, -0.07201012,  1.0035329 ],\n",
       "       [-0.62269952,  0.28099187, -1.9520878 , -0.1517851 ,  0.58831721],\n",
       "       [-0.45006547,  0.04698059, -1.59442766, -0.59937502,  0.0052437 ],\n",
       "       [ 0.77463405,  0.44381943, -0.48423407,  1.26691115, -0.70766947],\n",
       "       [ 0.35701549,  0.8496021 , -0.20812225, -0.49300093, -0.58936476],\n",
       "       [-1.3044695 , -0.08912004,  0.38406545, -0.03269475, -2.0674421 ],\n",
       "       [ 0.17318093, -1.24573878, -0.44651495,  0.85639879,  0.21409374],\n",
       "       [ 0.29698467,  0.52194157,  0.78182287, -1.23695071, -1.32045661],\n",
       "       [-1.72491783, -1.91328024, -0.46341769, -0.46572975,  0.24196227],\n",
       "       [-1.98756891,  0.09176078,  0.8219025 ,  0.08704707, -0.29900735],\n",
       "       [-0.0555477 , -1.70338244,  0.07409478,  1.62861555, -1.38010146],\n",
       "       [ 0.65655361, -1.1913035 , -0.71435142,  1.86577451,  0.47383292],\n",
       "       [-0.01901621, -0.15993853,  0.31090757,  1.47535622,  0.85765962],\n",
       "       [-0.39210815, -0.32766215,  0.09707755,  0.96864499, -0.70205309],\n",
       "       [ 0.19686124, -1.32818605, -1.22084365,  0.2088636 , -1.95967012],\n",
       "       [-1.23086432,  0.81351722,  1.54993441, -0.78325329, -0.32206152],\n",
       "       [ 1.50235705,  0.71754226, -1.18325851, -2.03923218, -0.26940683],\n",
       "       [ 1.52312408, -0.8612842 , -0.00797264,  1.47994414,  0.07736831],\n",
       "       [ 0.96337613, -0.82068232, -0.97468167,  0.7870846 ,  1.15859558],\n",
       "       [-1.20029641,  0.86575519, -0.79252074, -0.11473644,  0.50498728],\n",
       "       [-0.57690366,  0.95042384,  0.15039379,  0.34175598,  1.87617084],\n",
       "       [-1.00601738,  2.09238728,  0.09699596,  0.59515703, -0.81822068],\n",
       "       [ 3.85273149,  0.51504769, -0.93782504,  0.51503527,  0.51378595],\n",
       "       [-0.3853136 ,  0.06980208,  0.46210347,  0.1990597 , -0.60021688],\n",
       "       [-0.07444592,  0.25755039,  0.40405086,  1.8861859 ,  0.17457781],\n",
       "       [-1.38279973, -0.87561825,  0.53891004, -1.03724615, -0.19033868],\n",
       "       [ 2.15318246,  0.95927083,  0.02451017,  0.49799829,  1.45114361],\n",
       "       [-0.47193187, -1.61271587,  2.31465857, -1.86726519,  0.68626019],\n",
       "       [-0.13014305,  0.32416635,  0.02100384,  0.68195297, -0.31026676],\n",
       "       [ 1.23781631, -0.11453985, -0.46917565, -1.71313453,  1.35387237],\n",
       "       [ 1.64496771,  1.36687427, -0.2750517 , -2.30192116, -1.51519106],\n",
       "       [ 0.06751848,  1.17929718, -0.74848654,  1.55115198,  0.11567463],\n",
       "       [ 0.85243333, -0.66178646,  0.63391902, -2.02514259,  0.18645431],\n",
       "       [ 0.75193303,  1.14282281,  0.30154734, -0.03471177, -1.16867804],\n",
       "       [-0.8084936 , -0.51827022, -0.21967189,  0.35711257,  1.47789404],\n",
       "       [ 0.40498171,  1.76545424, -0.33450124, -0.47494531, -0.65332923],\n",
       "       [-0.75373616, -0.24538812,  0.41278093,  0.82206016,  1.89679298],\n",
       "       [-0.91942423,  0.47359243, -1.55066343,  0.06856297, -1.06230371],\n",
       "       [ 0.51326743, -0.5297602 , -0.50175704,  0.91540212,  0.32875111],\n",
       "       [ 0.82254491, -1.05771093, -0.60170661,  1.85227818, -0.01349722],\n",
       "       [ 0.54256004, -0.46947439, -0.23413696,  1.57921282,  0.76743473],\n",
       "       [ 1.11957491,  3.07888081, -0.24903604,  0.57655696,  0.31125015],\n",
       "       [ 1.17944012,  1.83145877, -0.89841467,  0.49191917, -1.32023321],\n",
       "       [ 0.64537595,  0.97157095,  2.06074792,  1.75534084, -0.24896415],\n",
       "       [ 0.58685709, -1.40185106,  0.79103195, -0.90938745,  1.40279431],\n",
       "       [ 0.2766908 ,  0.34115197, -0.88951443, -0.81581028, -0.07710171],\n",
       "       [ 0.69014399,  0.40171172,  0.51934651,  1.53273891, -0.10876015],\n",
       "       [-0.50347565,  0.09965137,  2.19045563, -0.99053633, -0.56629773],\n",
       "       [-1.76304016,  0.34361829, -0.71984421, -0.46063877,  1.05712223],\n",
       "       [-0.02090159,  0.61037027, -0.82899501, -0.56018104,  0.74729361],\n",
       "       [-0.25256815, -1.02438764, -0.92693047, -0.05952536, -3.24126734],\n",
       "       [-0.75913266, -0.52575502, -0.83972184, -0.59939265, -2.12389572],\n",
       "       [-1.19787789, -0.55364931, -0.79287283, -0.10703036, -1.03524232],\n",
       "       [-1.75873949,  1.05842449,  1.36863156, -0.96492346,  0.68605146],\n",
       "       [-2.6197451 ,  1.56464366,  0.36139561,  1.53803657, -0.03582604],\n",
       "       [-0.75635075,  0.20346364, -0.12791759, -0.95554044, -1.60644632],\n",
       "       [ 0.33231401,  1.27767682,  0.71161488, -1.12464209, -1.53411417],\n",
       "       [-0.98150865,  0.01023306,  1.44127329, -1.43586215,  1.16316375],\n",
       "       [ 0.62834551,  0.62411982, -1.21418861,  1.15811087,  0.79166269],\n",
       "       [ 1.30547881,  0.81350964, -0.2176812 ,  1.09877685,  0.82541635],\n",
       "       [-0.21344715, -0.71844422,  0.23204994, -1.44808434, -1.40746377],\n",
       "       [ 2.13303337, -1.2378155 ,  0.11351735,  0.66213067,  1.58601682],\n",
       "       [ 0.13074058, -0.44004449, -1.24778318,  1.6324113 , -1.43014138],\n",
       "       [ 2.72016917, -0.26465683,  0.82718325,  0.01300189,  1.45353408],\n",
       "       [-0.16128571, -0.80227727, -1.41537074, -0.42064532, -0.34271452],\n",
       "       [-0.53025762,  0.50404652, -0.0626791 ,  0.95514232, -0.98572605],\n",
       "       [-0.23415337,  1.52302986,  0.49671415, -0.1382643 ,  0.64768854],\n",
       "       [-0.11232805,  0.21397991,  1.96472513,  0.03526355, -0.69972551],\n",
       "       [ 0.88163976,  1.68714164, -1.42225371, -0.64657288, -1.081548  ],\n",
       "       [-1.37766937,  1.05380205,  0.35778736,  0.56078453,  1.08305124],\n",
       "       [-1.1429703 ,  0.05820872,  0.38531738, -0.88385744,  0.15372511],\n",
       "       [ 0.25988279,  0.18463386,  0.22745993,  1.30714275, -1.60748323],\n",
       "       [-1.51936997,  1.03246526, -1.26088395,  0.91786195,  2.1221562 ],\n",
       "       [-1.47852199, -0.3011037 ,  0.73846658,  0.17136828, -0.11564828],\n",
       "       [ 0.29307247,  0.2322537 ,  0.25049285,  0.34644821, -0.68002472],\n",
       "       [-0.57581824, -0.53050115, -0.2209696 ,  0.6141667 ,  0.75750771],\n",
       "       [-0.22346279,  0.48247242,  0.62566735, -0.85715756, -1.0708925 ],\n",
       "       [-0.54438272, -1.42474819,  1.46564877, -0.2257763 ,  0.0675282 ],\n",
       "       [-0.56372455,  0.41293145, -0.14705738, -0.8254972 , -0.32138584],\n",
       "       [-0.80829829,  2.18980293, -0.76734756,  0.87232064,  0.18334201],\n",
       "       [-0.31526924,  0.65139125,  0.57089051,  1.13556564,  0.95400176],\n",
       "       [ 0.62962884,  0.81286212, -0.6929096 ,  0.89959988,  0.30729952],\n",
       "       [ 0.51443883,  0.12029563,  0.62284993, -1.06762043, -0.14237949],\n",
       "       [-0.20219265,  0.54709738,  0.11732738,  1.2776649 , -0.59157139],\n",
       "       [ 0.81252582, -1.19620662, -0.47917424, -0.18565898, -1.10633497],\n",
       "       [ 0.97554513,  0.33126343,  0.93128012, -0.83921752, -0.30921238],\n",
       "       [ 0.67959775, -0.71530371,  1.0889506 ,  0.06428002, -1.07774478],\n",
       "       [-1.05921352, -0.51386692,  0.66967255,  0.36659825, -0.93987979],\n",
       "       [ 2.14394409, -0.65160035, -0.73036663,  0.21645859,  0.04557184],\n",
       "       [-0.19236096,  2.46324211, -1.91877122, -0.02651388,  0.06023021],\n",
       "       [-0.82723094,  0.32271856, -1.00252936, -0.01851314, -0.28865864],\n",
       "       [-0.29169375, -0.60063869,  0.11092259, -1.15099358,  0.37569802],\n",
       "       [-1.51484722, -0.84679372,  0.71400049,  0.47323762, -0.07282891],\n",
       "       [-0.77300978,  0.0976761 , -0.40122047,  0.22409248,  0.0125924 ],\n",
       "       [ 1.03099952,  0.61167629,  0.32408397, -0.38508228, -0.676922  ],\n",
       "       [-0.23458713,  0.00511346, -1.46351495,  0.29612028,  0.26105527],\n",
       "       [-0.47103831, -0.50694318, -0.8222204 ,  0.24368721,  0.24496657]])"
      ]
     },
     "execution_count": 18,
     "metadata": {},
     "output_type": "execute_result"
    }
   ],
   "source": [
    "X, y = make_regression(n_samples=100, n_features=5, noise=0.1, random_state=42)\n",
    "X"
   ]
  },
  {
   "cell_type": "code",
   "execution_count": 19,
   "id": "d42288bf",
   "metadata": {},
   "outputs": [
    {
     "data": {
      "image/png": "[encoded data removed]",
      "text/plain": [
       "<Figure size 640x480 with 1 Axes>"
      ]
     },
     "metadata": {},
     "output_type": "display_data"
    }
   ],
   "source": [
    "plt.scatter(X[:, 0], y)\n",
    "plt.xlabel(\"Feature 1\")\n",
    "plt.ylabel(\"Target Variable\")\n",
    "plt.title(\"Generated Data\")\n",
    "\n",
    "plt.show()"
   ]
  },
  {
   "cell_type": "code",
   "execution_count": 20,
   "id": "0faa3ec4",
   "metadata": {},
   "outputs": [
    {
     "data": {
      "image/png": "[encoded data removed]",
      "text/plain": [
       "<Figure size 640x480 with 1 Axes>"
      ]
     },
     "metadata": {},
     "output_type": "display_data"
    }
   ],
   "source": [
    "from sklearn.datasets import make_regression\n",
    "import matplotlib.pyplot as plt\n",
    "from sklearn.linear_model import LinearRegression\n",
    "\n",
    "# Generate synthetic regression dataset\n",
    "X, y = make_regression(n_samples=100, n_features=5, noise=0.1, random_state=42)\n",
    "\n",
    "# Use only the first feature (X[:, 0]) to fit the regression line\n",
    "X_feature_1 = X[:, 0].reshape(-1, 1)  # Reshape to 2D array for fitting\n",
    "\n",
    "# Create and fit a linear regression model\n",
    "model = LinearRegression()\n",
    "model.fit(X_feature_1, y)\n",
    "\n",
    "# Make predictions based on the first feature\n",
    "y_pred = model.predict(X_feature_1)\n",
    "\n",
    "# Plot the data points and the regression line\n",
    "plt.scatter(X[:, 0], y, color='blue', label='Data points')\n",
    "plt.plot(X[:, 0], y_pred, color='red', label='Best fit line')\n",
    "plt.xlabel(\"Feature 1\")\n",
    "plt.ylabel(\"Target Variable\")\n",
    "plt.title(\"Generated Data with Best Fit Line\")\n",
    "plt.legend()\n",
    "plt.show()\n"
   ]
  },
  {
   "cell_type": "code",
   "execution_count": null,
   "id": "bf0c12a0",
   "metadata": {},
   "outputs": [],
   "source": []
  }
 ],
 "metadata": {
  "kernelspec": {
   "display_name": "base",
   "language": "python",
   "name": "python3"
  },
  "language_info": {
   "codemirror_mode": {
    "name": "ipython",
    "version": 3
   },
   "file_extension": ".py",
   "mimetype": "text/x-python",
   "name": "python",
   "nbconvert_exporter": "python",
   "pygments_lexer": "ipython3",
   "version": "3.12.4"
  }
 },
 "nbformat": 4,
 "nbformat_minor": 5
}
